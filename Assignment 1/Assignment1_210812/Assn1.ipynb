{
 "cells": [
  {
   "attachments": {},
   "cell_type": "markdown",
   "metadata": {},
   "source": [
    "# Assignment-1 #"
   ]
  },
  {
   "attachments": {},
   "cell_type": "markdown",
   "metadata": {},
   "source": [
    "Calculate Daily Returns, Cumulative Returns, Max. Drawdown, Sharpe Ratio and Sortino Ratio for 5 international indices and 5 equities \n"
   ]
  },
  {
   "cell_type": "code",
   "execution_count": 139,
   "metadata": {},
   "outputs": [],
   "source": [
    "import pandas as pd\n",
    "import numpy as np\n",
    "import matplotlib.pyplot as plt\n",
    "import yfinance as yf"
   ]
  },
  {
   "cell_type": "code",
   "execution_count": 140,
   "metadata": {},
   "outputs": [
    {
     "name": "stdout",
     "output_type": "stream",
     "text": [
      "[*********************100%***********************]  10 of 10 completed\n"
     ]
    }
   ],
   "source": [
    "Equities = yf.download(tickers=[\"MSFT\", \"005930.KS\", \"PG\", \"NSRGF\", \"KO\", \"^STOXX50E\", \"^FTSE\", \"^N225\", \"^GDAXI\", \"^AXJO\"], start=\"2010-01-01\", end = \"2023-05-01\")"
   ]
  },
  {
   "attachments": {},
   "cell_type": "markdown",
   "metadata": {},
   "source": [
    "# Cumulative Return #"
   ]
  },
  {
   "cell_type": "code",
   "execution_count": null,
   "metadata": {},
   "outputs": [],
   "source": [
    "Equities.head()"
   ]
  },
  {
   "cell_type": "code",
   "execution_count": 142,
   "metadata": {},
   "outputs": [],
   "source": [
    "Equities.dropna(inplace= True)"
   ]
  },
  {
   "cell_type": "code",
   "execution_count": null,
   "metadata": {},
   "outputs": [],
   "source": [
    "Equities.head()"
   ]
  },
  {
   "cell_type": "code",
   "execution_count": 152,
   "metadata": {},
   "outputs": [],
   "source": [
    "Equi_Indi_list = list(dict.fromkeys(Equities.columns.get_level_values(1)))[:10]"
   ]
  },
  {
   "cell_type": "code",
   "execution_count": null,
   "metadata": {},
   "outputs": [],
   "source": [
    "Equities.dropna(inplace=True)\n",
    "Equities.loc[:, \"Adj Close\"].head()"
   ]
  },
  {
   "cell_type": "code",
   "execution_count": 146,
   "metadata": {},
   "outputs": [],
   "source": [
    "for index in Equi_Indi_list:\n",
    "    new_column = np.log(Equities.loc[:, ('Adj Close' ,index)].div(Equities.loc[:, ('Adj Close', index)].shift(1)))\n",
    "    Equities.insert(loc=len(Equities.columns), column=('d_returns', index), value=new_column)\n",
    "Equities.dropna(inplace=True)\n",
    "    "
   ]
  },
  {
   "cell_type": "code",
   "execution_count": 147,
   "metadata": {},
   "outputs": [],
   "source": [
    "for index in Equi_Indi_list:\n",
    "    new_column = Equities.d_returns[index].cumsum().apply(np.exp)\n",
    "    Equities.insert(loc=len(Equities.columns), column=('C_returns', index), value=new_column)\n"
   ]
  },
  {
   "cell_type": "code",
   "execution_count": null,
   "metadata": {},
   "outputs": [],
   "source": [
    "Equities.dropna(inplace=True)\n",
    "Equities"
   ]
  },
  {
   "cell_type": "code",
   "execution_count": 174,
   "metadata": {},
   "outputs": [
    {
     "name": "stdout",
     "output_type": "stream",
     "text": [
      "Cumulative Returns:\n",
      "005930.KS 4.210193622018311\n",
      "KO 2.387661839732024\n",
      "MSFT 12.006317405380196\n",
      "NSRGF 2.147503381651382\n",
      "PG 2.8211349906466623\n",
      "^AXJO 0.4989234641164393\n",
      "^FTSE 0.43094019910491643\n",
      "^GDAXI 1.6325381341831817\n",
      "^N225 1.708306719074871\n",
      "^STOXX50E 0.4445324368944088\n"
     ]
    }
   ],
   "source": [
    "print(\"Cumulative Returns:\")\n",
    "for index in Equi_Indi_list:\n",
    "    print(index, (Equities.C_returns[index][-1] - 1))"
   ]
  },
  {
   "cell_type": "code",
   "execution_count": 178,
   "metadata": {},
   "outputs": [
    {
     "data": {
      "text/plain": [
       "MultiIndex([('Adj Close', '005930.KS'),\n",
       "            ('Adj Close',        'KO'),\n",
       "            ('Adj Close',      'MSFT'),\n",
       "            ('Adj Close',     'NSRGF'),\n",
       "            ('Adj Close',        'PG'),\n",
       "            ('Adj Close',     '^AXJO'),\n",
       "            ('Adj Close',     '^FTSE'),\n",
       "            ('Adj Close',    '^GDAXI'),\n",
       "            ('Adj Close',     '^N225'),\n",
       "            ('Adj Close', '^STOXX50E'),\n",
       "            (    'Close', '005930.KS'),\n",
       "            (    'Close',        'KO'),\n",
       "            (    'Close',      'MSFT'),\n",
       "            (    'Close',     'NSRGF'),\n",
       "            (    'Close',        'PG'),\n",
       "            (    'Close',     '^AXJO'),\n",
       "            (    'Close',     '^FTSE'),\n",
       "            (    'Close',    '^GDAXI'),\n",
       "            (    'Close',     '^N225'),\n",
       "            (    'Close', '^STOXX50E'),\n",
       "            (     'High', '005930.KS'),\n",
       "            (     'High',        'KO'),\n",
       "            (     'High',      'MSFT'),\n",
       "            (     'High',     'NSRGF'),\n",
       "            (     'High',        'PG'),\n",
       "            (     'High',     '^AXJO'),\n",
       "            (     'High',     '^FTSE'),\n",
       "            (     'High',    '^GDAXI'),\n",
       "            (     'High',     '^N225'),\n",
       "            (     'High', '^STOXX50E'),\n",
       "            (      'Low', '005930.KS'),\n",
       "            (      'Low',        'KO'),\n",
       "            (      'Low',      'MSFT'),\n",
       "            (      'Low',     'NSRGF'),\n",
       "            (      'Low',        'PG'),\n",
       "            (      'Low',     '^AXJO'),\n",
       "            (      'Low',     '^FTSE'),\n",
       "            (      'Low',    '^GDAXI'),\n",
       "            (      'Low',     '^N225'),\n",
       "            (      'Low', '^STOXX50E'),\n",
       "            (     'Open', '005930.KS'),\n",
       "            (     'Open',        'KO'),\n",
       "            (     'Open',      'MSFT'),\n",
       "            (     'Open',     'NSRGF'),\n",
       "            (     'Open',        'PG'),\n",
       "            (     'Open',     '^AXJO'),\n",
       "            (     'Open',     '^FTSE'),\n",
       "            (     'Open',    '^GDAXI'),\n",
       "            (     'Open',     '^N225'),\n",
       "            (     'Open', '^STOXX50E'),\n",
       "            (   'Volume', '005930.KS'),\n",
       "            (   'Volume',        'KO'),\n",
       "            (   'Volume',      'MSFT'),\n",
       "            (   'Volume',     'NSRGF'),\n",
       "            (   'Volume',        'PG'),\n",
       "            (   'Volume',     '^AXJO'),\n",
       "            (   'Volume',     '^FTSE'),\n",
       "            (   'Volume',    '^GDAXI'),\n",
       "            (   'Volume',     '^N225'),\n",
       "            (   'Volume', '^STOXX50E'),\n",
       "            ('d_returns', '005930.KS'),\n",
       "            ('d_returns',        'KO'),\n",
       "            ('d_returns',      'MSFT'),\n",
       "            ('d_returns',     'NSRGF'),\n",
       "            ('d_returns',        'PG'),\n",
       "            ('d_returns',     '^AXJO'),\n",
       "            ('d_returns',     '^FTSE'),\n",
       "            ('d_returns',    '^GDAXI'),\n",
       "            ('d_returns',     '^N225'),\n",
       "            ('d_returns', '^STOXX50E'),\n",
       "            ('C_returns', '005930.KS'),\n",
       "            ('C_returns',        'KO'),\n",
       "            ('C_returns',      'MSFT'),\n",
       "            ('C_returns',     'NSRGF'),\n",
       "            ('C_returns',        'PG'),\n",
       "            ('C_returns',     '^AXJO'),\n",
       "            ('C_returns',     '^FTSE'),\n",
       "            ('C_returns',    '^GDAXI'),\n",
       "            ('C_returns',     '^N225'),\n",
       "            ('C_returns', '^STOXX50E')],\n",
       "           )"
      ]
     },
     "execution_count": 178,
     "metadata": {},
     "output_type": "execute_result"
    }
   ],
   "source": [
    "Equities.columns"
   ]
  },
  {
   "attachments": {},
   "cell_type": "markdown",
   "metadata": {},
   "source": [
    "# Maximum DrawDown"
   ]
  },
  {
   "cell_type": "code",
   "execution_count": 181,
   "metadata": {},
   "outputs": [],
   "source": [
    "for index in Equi_Indi_list:\n",
    "    new_column = Equities.loc[:, ('C_returns', index)].cummax() - Equities.loc[:, ('C_returns', index)]\n",
    "    Equities.insert(loc=len(Equities.columns), column=('Drawdawn', index), value=new_column)\n",
    "Equities.dropna(inplace=True)"
   ]
  },
  {
   "cell_type": "code",
   "execution_count": null,
   "metadata": {},
   "outputs": [
    {
     "data": {
      "text/html": [
       "<div>\n",
       "<style scoped>\n",
       "    .dataframe tbody tr th:only-of-type {\n",
       "        vertical-align: middle;\n",
       "    }\n",
       "\n",
       "    .dataframe tbody tr th {\n",
       "        vertical-align: top;\n",
       "    }\n",
       "\n",
       "    .dataframe thead tr th {\n",
       "        text-align: left;\n",
       "    }\n",
       "\n",
       "    .dataframe thead tr:last-of-type th {\n",
       "        text-align: right;\n",
       "    }\n",
       "</style>\n",
       "<table border=\"1\" class=\"dataframe\">\n",
       "  <thead>\n",
       "    <tr>\n",
       "      <th></th>\n",
       "      <th colspan=\"10\" halign=\"left\">Adj Close</th>\n",
       "      <th>...</th>\n",
       "      <th colspan=\"10\" halign=\"left\">Drawdawn</th>\n",
       "    </tr>\n",
       "    <tr>\n",
       "      <th></th>\n",
       "      <th>005930.KS</th>\n",
       "      <th>KO</th>\n",
       "      <th>MSFT</th>\n",
       "      <th>NSRGF</th>\n",
       "      <th>PG</th>\n",
       "      <th>^AXJO</th>\n",
       "      <th>^FTSE</th>\n",
       "      <th>^GDAXI</th>\n",
       "      <th>^N225</th>\n",
       "      <th>^STOXX50E</th>\n",
       "      <th>...</th>\n",
       "      <th>005930.KS</th>\n",
       "      <th>KO</th>\n",
       "      <th>MSFT</th>\n",
       "      <th>NSRGF</th>\n",
       "      <th>PG</th>\n",
       "      <th>^AXJO</th>\n",
       "      <th>^FTSE</th>\n",
       "      <th>^GDAXI</th>\n",
       "      <th>^N225</th>\n",
       "      <th>^STOXX50E</th>\n",
       "    </tr>\n",
       "    <tr>\n",
       "      <th>Date</th>\n",
       "      <th></th>\n",
       "      <th></th>\n",
       "      <th></th>\n",
       "      <th></th>\n",
       "      <th></th>\n",
       "      <th></th>\n",
       "      <th></th>\n",
       "      <th></th>\n",
       "      <th></th>\n",
       "      <th></th>\n",
       "      <th></th>\n",
       "      <th></th>\n",
       "      <th></th>\n",
       "      <th></th>\n",
       "      <th></th>\n",
       "      <th></th>\n",
       "      <th></th>\n",
       "      <th></th>\n",
       "      <th></th>\n",
       "      <th></th>\n",
       "      <th></th>\n",
       "    </tr>\n",
       "  </thead>\n",
       "  <tbody>\n",
       "    <tr>\n",
       "      <th>2010-01-05</th>\n",
       "      <td>12773.524414</td>\n",
       "      <td>18.707293</td>\n",
       "      <td>23.579988</td>\n",
       "      <td>39.615524</td>\n",
       "      <td>40.938404</td>\n",
       "      <td>4924.299805</td>\n",
       "      <td>5522.500000</td>\n",
       "      <td>6031.859863</td>\n",
       "      <td>10681.830078</td>\n",
       "      <td>3012.360107</td>\n",
       "      <td>...</td>\n",
       "      <td>0.000000</td>\n",
       "      <td>0.000000</td>\n",
       "      <td>0.000000</td>\n",
       "      <td>0.000000</td>\n",
       "      <td>0.000000</td>\n",
       "      <td>0.000000</td>\n",
       "      <td>0.000000</td>\n",
       "      <td>0.000000</td>\n",
       "      <td>0.000000</td>\n",
       "      <td>0.000000</td>\n",
       "    </tr>\n",
       "    <tr>\n",
       "      <th>2010-01-06</th>\n",
       "      <td>13068.773438</td>\n",
       "      <td>18.700651</td>\n",
       "      <td>23.435276</td>\n",
       "      <td>39.409618</td>\n",
       "      <td>40.744221</td>\n",
       "      <td>4921.399902</td>\n",
       "      <td>5530.000000</td>\n",
       "      <td>6034.330078</td>\n",
       "      <td>10731.450195</td>\n",
       "      <td>3009.659912</td>\n",
       "      <td>...</td>\n",
       "      <td>0.000000</td>\n",
       "      <td>0.000351</td>\n",
       "      <td>0.006139</td>\n",
       "      <td>0.005061</td>\n",
       "      <td>0.004745</td>\n",
       "      <td>0.000595</td>\n",
       "      <td>0.000000</td>\n",
       "      <td>0.000000</td>\n",
       "      <td>0.000000</td>\n",
       "      <td>0.000895</td>\n",
       "    </tr>\n",
       "    <tr>\n",
       "      <th>2010-01-07</th>\n",
       "      <td>12633.666992</td>\n",
       "      <td>18.654177</td>\n",
       "      <td>23.191553</td>\n",
       "      <td>38.709560</td>\n",
       "      <td>40.523247</td>\n",
       "      <td>4899.399902</td>\n",
       "      <td>5526.700195</td>\n",
       "      <td>6019.359863</td>\n",
       "      <td>10681.660156</td>\n",
       "      <td>3007.340088</td>\n",
       "      <td>...</td>\n",
       "      <td>0.034611</td>\n",
       "      <td>0.002805</td>\n",
       "      <td>0.016478</td>\n",
       "      <td>0.022267</td>\n",
       "      <td>0.010144</td>\n",
       "      <td>0.005106</td>\n",
       "      <td>0.000600</td>\n",
       "      <td>0.002475</td>\n",
       "      <td>0.004673</td>\n",
       "      <td>0.001663</td>\n",
       "    </tr>\n",
       "    <tr>\n",
       "      <th>2010-01-08</th>\n",
       "      <td>12757.982422</td>\n",
       "      <td>18.308912</td>\n",
       "      <td>23.351498</td>\n",
       "      <td>39.739063</td>\n",
       "      <td>40.469696</td>\n",
       "      <td>4912.100098</td>\n",
       "      <td>5534.200195</td>\n",
       "      <td>6037.609863</td>\n",
       "      <td>10798.320312</td>\n",
       "      <td>3017.850098</td>\n",
       "      <td>...</td>\n",
       "      <td>0.024722</td>\n",
       "      <td>0.021038</td>\n",
       "      <td>0.009693</td>\n",
       "      <td>0.000000</td>\n",
       "      <td>0.011453</td>\n",
       "      <td>0.002502</td>\n",
       "      <td>0.000000</td>\n",
       "      <td>0.000000</td>\n",
       "      <td>0.000000</td>\n",
       "      <td>0.000000</td>\n",
       "    </tr>\n",
       "    <tr>\n",
       "      <th>2010-01-12</th>\n",
       "      <td>12571.509766</td>\n",
       "      <td>18.883249</td>\n",
       "      <td>22.902132</td>\n",
       "      <td>39.739063</td>\n",
       "      <td>40.771015</td>\n",
       "      <td>4899.500000</td>\n",
       "      <td>5498.700195</td>\n",
       "      <td>5943.000000</td>\n",
       "      <td>10879.139648</td>\n",
       "      <td>2976.889893</td>\n",
       "      <td>...</td>\n",
       "      <td>0.039555</td>\n",
       "      <td>0.000000</td>\n",
       "      <td>0.028756</td>\n",
       "      <td>0.000000</td>\n",
       "      <td>0.004090</td>\n",
       "      <td>0.005086</td>\n",
       "      <td>0.006454</td>\n",
       "      <td>0.015642</td>\n",
       "      <td>0.000000</td>\n",
       "      <td>0.013573</td>\n",
       "    </tr>\n",
       "  </tbody>\n",
       "</table>\n",
       "<p>5 rows × 90 columns</p>\n",
       "</div>"
      ],
      "text/plain": [
       "               Adj Close                                              \\\n",
       "               005930.KS         KO       MSFT      NSRGF         PG   \n",
       "Date                                                                   \n",
       "2010-01-05  12773.524414  18.707293  23.579988  39.615524  40.938404   \n",
       "2010-01-06  13068.773438  18.700651  23.435276  39.409618  40.744221   \n",
       "2010-01-07  12633.666992  18.654177  23.191553  38.709560  40.523247   \n",
       "2010-01-08  12757.982422  18.308912  23.351498  39.739063  40.469696   \n",
       "2010-01-12  12571.509766  18.883249  22.902132  39.739063  40.771015   \n",
       "\n",
       "                                                                              \\\n",
       "                  ^AXJO        ^FTSE       ^GDAXI         ^N225    ^STOXX50E   \n",
       "Date                                                                           \n",
       "2010-01-05  4924.299805  5522.500000  6031.859863  10681.830078  3012.360107   \n",
       "2010-01-06  4921.399902  5530.000000  6034.330078  10731.450195  3009.659912   \n",
       "2010-01-07  4899.399902  5526.700195  6019.359863  10681.660156  3007.340088   \n",
       "2010-01-08  4912.100098  5534.200195  6037.609863  10798.320312  3017.850098   \n",
       "2010-01-12  4899.500000  5498.700195  5943.000000  10879.139648  2976.889893   \n",
       "\n",
       "            ...  Drawdawn                                                    \\\n",
       "            ... 005930.KS        KO      MSFT     NSRGF        PG     ^AXJO   \n",
       "Date        ...                                                               \n",
       "2010-01-05  ...  0.000000  0.000000  0.000000  0.000000  0.000000  0.000000   \n",
       "2010-01-06  ...  0.000000  0.000351  0.006139  0.005061  0.004745  0.000595   \n",
       "2010-01-07  ...  0.034611  0.002805  0.016478  0.022267  0.010144  0.005106   \n",
       "2010-01-08  ...  0.024722  0.021038  0.009693  0.000000  0.011453  0.002502   \n",
       "2010-01-12  ...  0.039555  0.000000  0.028756  0.000000  0.004090  0.005086   \n",
       "\n",
       "                                                    \n",
       "               ^FTSE    ^GDAXI     ^N225 ^STOXX50E  \n",
       "Date                                                \n",
       "2010-01-05  0.000000  0.000000  0.000000  0.000000  \n",
       "2010-01-06  0.000000  0.000000  0.000000  0.000895  \n",
       "2010-01-07  0.000600  0.002475  0.004673  0.001663  \n",
       "2010-01-08  0.000000  0.000000  0.000000  0.000000  \n",
       "2010-01-12  0.006454  0.015642  0.000000  0.013573  \n",
       "\n",
       "[5 rows x 90 columns]"
      ]
     },
     "execution_count": 133,
     "metadata": {},
     "output_type": "execute_result"
    }
   ],
   "source": [
    "Equities.head()"
   ]
  },
  {
   "cell_type": "code",
   "execution_count": null,
   "metadata": {},
   "outputs": [
    {
     "name": "stdout",
     "output_type": "stream",
     "text": [
      "Maximum DrawDown:\n",
      "005930.KS 2.738269645852574\n",
      "KO 1.061146784231841\n",
      "MSFT 5.085633458964036\n",
      "NSRGF 0.8462488961054091\n",
      "PG 0.9135534202987934\n",
      "^AXJO 0.5365748835797182\n",
      "^FTSE 0.5080632145939505\n",
      "^GDAXI 0.8840980460191967\n",
      "^N225 0.7243492395631572\n",
      "^STOXX50E 0.49021135905134494\n"
     ]
    }
   ],
   "source": [
    "print(\"Maximum DrawDown:\")\n",
    "for index in Equi_Indi_list:\n",
    "    print(index, Equities.Drawdawn[index].max())"
   ]
  },
  {
   "attachments": {},
   "cell_type": "markdown",
   "metadata": {},
   "source": [
    "* Calculation of annual average returns (CAGR)\n"
   ]
  },
  {
   "cell_type": "code",
   "execution_count": 162,
   "metadata": {},
   "outputs": [
    {
     "name": "stdout",
     "output_type": "stream",
     "text": [
      "005930.KS: 11.219249592515744\n",
      "KO: 6.533730555355133\n",
      "MSFT: 19.30801582365298\n",
      "NSRGF: 7.823383504211434\n",
      "PG: 7.49135128579852\n",
      "^AXJO: 3.0847113801853343\n",
      "^FTSE: 2.7628918114616763\n",
      "^GDAXI: 7.752521397768408\n",
      "^N225: 7.944315133459678\n",
      "^STOXX50E: 2.883798498750023\n"
     ]
    }
   ],
   "source": [
    "CAGR = {}\n",
    "\n",
    "for index in Equi_Indi_list:\n",
    "    equity = index\n",
    "    prices = Equities.Close[index]\n",
    "    total_returns = prices[-1] / prices[0]\n",
    "    years = 13\n",
    "    C_A_G_R = (pow(total_returns,1/years) - 1) * 100\n",
    "    CAGR[equity] = C_A_G_R\n",
    "    print(f\"{equity}: {CAGR[equity]}\")"
   ]
  },
  {
   "attachments": {},
   "cell_type": "markdown",
   "metadata": {},
   "source": [
    "# Volatility: Standard Deviation\n"
   ]
  },
  {
   "attachments": {},
   "cell_type": "markdown",
   "metadata": {},
   "source": [
    "* calculation of annualized standard deviation"
   ]
  },
  {
   "cell_type": "code",
   "execution_count": 168,
   "metadata": {},
   "outputs": [
    {
     "name": "stdout",
     "output_type": "stream",
     "text": [
      "Standard Deviation\n",
      "005930.KS: 1.7748505978664428%\n",
      "KO: 1.1793407981022868%\n",
      "MSFT: 1.7494527786635263%\n",
      "NSRGF: 1.279940729046971%\n",
      "PG: 1.1934721240717503%\n",
      "^AXJO: 1.0398299265154332%\n",
      "^FTSE: 1.0883702203760603%\n",
      "^GDAXI: 1.3539086372343205%\n",
      "^N225: 1.415066003928987%\n",
      "^STOXX50E: 1.404351742368975%\n"
     ]
    }
   ],
   "source": [
    "STD = {}\n",
    "Volatility = {}\n",
    "d_returns = []\n",
    "print(\"Standard Deviation\")\n",
    "for index in Equi_Indi_list:\n",
    "    equity = index\n",
    "    prices = Equities.Close[index]\n",
    "    d_returns = prices.pct_change()\n",
    "    std = d_returns.std()\n",
    "    annualized_std = std*pow(252, 0.5)\n",
    "    STD[equity] = annualized_std*100\n",
    "    Volatility[equity] = std\n",
    "    print(f\"{equity}: {Volatility[equity] * 100}%\")\n",
    "# new_list = list(filter(lambda x: x<=0, d_returns))\n",
    "# new_list = list(filter(lambda x: x <= 0, d_returns))"
   ]
  },
  {
   "attachments": {},
   "cell_type": "markdown",
   "metadata": {},
   "source": [
    "* risk free rates "
   ]
  },
  {
   "cell_type": "code",
   "execution_count": 163,
   "metadata": {},
   "outputs": [],
   "source": [
    "risk_free_rates = {\n",
    "    'MSFT': 3.46,            # Risk-free rate for Microsoft (USA govt bond's interest rate)\n",
    "    '005930.KS': 3.32,       # Risk-free rate for Samsung Electronics (South Korea govt bond's interest rate)\n",
    "    'PG': 3.32,             # Risk-free rate for Procter & Gamble (USA govt bond's interest rate)\n",
    "    'NSRGF': 2.25 ,          # Risk-free rate for Nestle (Sweden govt bond's interest rate)\n",
    "    'KO': 3.46,            # Risk-free rate for Coca-Cola (USA govt bond's interest rate)\n",
    "    '^AXJO': 2,\n",
    "    '^FTSE':2,\n",
    "    '^GDAXI': 2,\n",
    "    '^N225' : 2,\n",
    "    '^STOXX50E':2\n",
    "}"
   ]
  },
  {
   "attachments": {},
   "cell_type": "markdown",
   "metadata": {},
   "source": [
    "# Sharpe Ratio"
   ]
  },
  {
   "cell_type": "code",
   "execution_count": 164,
   "metadata": {},
   "outputs": [
    {
     "name": "stdout",
     "output_type": "stream",
     "text": [
      "005930.KS: 0.2803649795455661\n",
      "KO: 0.16418224929788278\n",
      "MSFT: 0.570653389646873\n",
      "NSRGF: 0.27430188904347425\n",
      "PG: 0.22017307857098795\n",
      "^AXJO: 0.06571304831113912\n",
      "^FTSE: 0.044155624633949786\n",
      "^GDAXI: 0.26765084176620885\n",
      "^N225: 0.2646213357516774\n",
      "^STOXX50E: 0.03964396569942243\n"
     ]
    }
   ],
   "source": [
    "Sharpe_Ratio = {}\n",
    "for index in Equi_Indi_list:\n",
    "    equity = index\n",
    "    Sharpe_Ratio[equity] = (CAGR[index] - risk_free_rates[index])/(STD[index])\n",
    "    print(f\"{equity}: {Sharpe_Ratio[equity]}\")"
   ]
  },
  {
   "attachments": {},
   "cell_type": "markdown",
   "metadata": {},
   "source": [
    "# Sortino Ratio"
   ]
  },
  {
   "cell_type": "code",
   "execution_count": 165,
   "metadata": {},
   "outputs": [
    {
     "name": "stdout",
     "output_type": "stream",
     "text": [
      "Standard Deviation\n",
      "005930.KS: 1.1042958195142187%\n",
      "KO: 0.9499353042345421%\n",
      "MSFT: 1.2528686683014871%\n",
      "NSRGF: 0.8951882002374949%\n",
      "PG: 0.9198583984843124%\n",
      "^AXJO: 0.8251277874662485%\n",
      "^FTSE: 0.8454456634879001%\n",
      "^GDAXI: 1.046841139708179%\n",
      "^N225: 1.0763205778102458%\n",
      "^STOXX50E: 1.084361812719843%\n"
     ]
    }
   ],
   "source": [
    "STD_neg_earnings = {}\n",
    "Volatility = {}\n",
    "d_returns = []\n",
    "print(\"Standard Deviation of negative earnings\")\n",
    "for index in Equi_Indi_list:\n",
    "    equity = index\n",
    "    prices = Equities.Close[index]\n",
    "    d_returns = prices.pct_change()\n",
    "    neg_d_returns = list(filter(lambda x: x<=0 , d_returns))\n",
    "    std_neg_earning = np.std(neg_d_returns)\n",
    "    annualized_std_neg_earning = std_neg_earning*pow(252, 0.5)\n",
    "    STD_neg_earnings[equity] = annualized_std_neg_earning*100\n",
    "    Volatility[equity] = std_neg_earning\n",
    "    print(f\"{equity}: {Volatility[equity] * 100}%\")"
   ]
  },
  {
   "cell_type": "code",
   "execution_count": 166,
   "metadata": {},
   "outputs": [
    {
     "name": "stdout",
     "output_type": "stream",
     "text": [
      "005930.KS: 0.45060928672731787\n",
      "KO: 0.2038315915389819\n",
      "MSFT: 0.7968362394479213\n",
      "NSRGF: 0.39219703716840887\n",
      "PG: 0.2856640023926626\n",
      "^AXJO: 0.08281189318117822\n",
      "^FTSE: 0.0568429988929529\n",
      "^GDAXI: 0.34616024598662926\n",
      "^N225: 0.34790439192224865\n",
      "^STOXX50E: 0.05134270835742147\n"
     ]
    }
   ],
   "source": [
    "Sortino_Ratio = {}\n",
    "for index in Equi_Indi_list:\n",
    "    equity = index\n",
    "    Sortino_Ratio[equity] = (CAGR[index] - risk_free_rates[index])/STD_neg_earnings[index]\n",
    "    print(f\"{equity}: {Sortino_Ratio[equity]}\")"
   ]
  }
 ],
 "metadata": {
  "kernelspec": {
   "display_name": "base",
   "language": "python",
   "name": "python3"
  },
  "language_info": {
   "codemirror_mode": {
    "name": "ipython",
    "version": 3
   },
   "file_extension": ".py",
   "mimetype": "text/x-python",
   "name": "python",
   "nbconvert_exporter": "python",
   "pygments_lexer": "ipython3",
   "version": "3.9.12"
  },
  "orig_nbformat": 4
 },
 "nbformat": 4,
 "nbformat_minor": 2
}
